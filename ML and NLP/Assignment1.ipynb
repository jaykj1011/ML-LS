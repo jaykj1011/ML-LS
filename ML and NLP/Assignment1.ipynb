{
 "cells": [
  {
   "cell_type": "markdown",
   "id": "32105bfd-43e5-43e6-b824-cdc2f9aaefb3",
   "metadata": {},
   "source": [
    "# Problem 1"
   ]
  },
  {
   "cell_type": "code",
   "execution_count": 1,
   "id": "effcd452-7670-4cfd-a123-cb8eb0d25720",
   "metadata": {},
   "outputs": [],
   "source": [
    "import numpy as np"
   ]
  },
  {
   "cell_type": "code",
   "execution_count": 2,
   "id": "2e33dc66-c11a-4ac3-a41d-a0b7811777e9",
   "metadata": {},
   "outputs": [
    {
     "name": "stdout",
     "output_type": "stream",
     "text": [
      "[[19  1 12 37]\n",
      " [31 11 40  9]\n",
      " [31 22 20 48]\n",
      " [11 15 13 47]\n",
      " [13 38 32 27]]\n"
     ]
    }
   ],
   "source": [
    "array = np.random.randint(1,50,size=(5,4))\n",
    "print(array)"
   ]
  },
  {
   "cell_type": "code",
   "execution_count": 3,
   "id": "5fcdbfeb-9a8e-479c-a304-68976676664a",
   "metadata": {},
   "outputs": [
    {
     "name": "stdout",
     "output_type": "stream",
     "text": [
      "37 \n",
      "12 9 \n",
      "1 40 48 \n",
      "19 11 20 47 \n",
      "31 22 13 27 \n",
      "31 15 32 \n",
      "11 38 \n",
      "13 \n"
     ]
    }
   ],
   "source": [
    "rows = 5\n",
    "cols = 4\n",
    "for col_start in range(cols - 1, -1, -1):\n",
    "    i = 0\n",
    "    j = col_start\n",
    "    while i < rows and j < cols:\n",
    "        print(array[i][j], end=' ')\n",
    "        i += 1\n",
    "        j += 1\n",
    "    print()\n",
    "\n",
    "# Bottom half diagonals (starting from row 1 to last row, leftmost column)\n",
    "for row_start in range(1, rows):\n",
    "    i = row_start\n",
    "    j = 0\n",
    "    while i < rows and j < cols:\n",
    "        print(array[i][j], end=' ')\n",
    "        i += 1\n",
    "        j += 1\n",
    "    print()"
   ]
  },
  {
   "cell_type": "code",
   "execution_count": 4,
   "id": "c743df2c-385f-43e9-a181-7d4fa638cec4",
   "metadata": {},
   "outputs": [
    {
     "name": "stdout",
     "output_type": "stream",
     "text": [
      "37\n",
      "40\n",
      "48\n",
      "47\n",
      "38\n"
     ]
    }
   ],
   "source": [
    "for i in range(rows):\n",
    "    print(np.max(array[i]))"
   ]
  },
  {
   "cell_type": "code",
   "execution_count": 5,
   "id": "d8ea9783-b7c5-4799-920c-c49347a4be23",
   "metadata": {},
   "outputs": [
    {
     "name": "stdout",
     "output_type": "stream",
     "text": [
      "23.85\n"
     ]
    }
   ],
   "source": [
    "amean = np.mean(array)\n",
    "print(amean)"
   ]
  },
  {
   "cell_type": "code",
   "execution_count": 6,
   "id": "f5f8ff2d-d95c-415f-9a00-455ae39601b2",
   "metadata": {},
   "outputs": [
    {
     "name": "stdout",
     "output_type": "stream",
     "text": [
      "[[22  5 17 19]\n",
      " [19 11 20  9]\n",
      " [18  2 12  3]\n",
      " [ 2  1 19 22]\n",
      " [19 20 21 20]]\n"
     ]
    }
   ],
   "source": [
    "arrnew = np.random.randint(1, amean, size=(5,4))\n",
    "print(arrnew)"
   ]
  },
  {
   "cell_type": "code",
   "execution_count": 7,
   "id": "29dcd0b8-0991-497a-94b5-9e27430a0341",
   "metadata": {},
   "outputs": [],
   "source": [
    "def numpy_boundary_traversal(matrix):\n",
    "    rows, cols = matrix.shape\n",
    "    result = []\n",
    "\n",
    "    for i in range(cols):\n",
    "        result.append(matrix[0][i])\n",
    "    for i in range(1, rows):\n",
    "        result.append(matrix[i][cols - 1])\n",
    "    if rows > 1:\n",
    "        for i in range(cols - 2, -1, -1):\n",
    "            result.append(matrix[rows - 1][i])\n",
    "    if cols > 1:\n",
    "        for i in range(rows - 2, 0, -1):\n",
    "            result.append(matrix[i][0])\n",
    "    \n",
    "    return result"
   ]
  },
  {
   "cell_type": "code",
   "execution_count": 8,
   "id": "a5dd4f34-1bdd-495d-a7f4-0046e4958560",
   "metadata": {},
   "outputs": [
    {
     "data": {
      "text/plain": [
       "[19, 1, 12, 37, 9, 48, 47, 27, 32, 38, 13, 11, 31, 31]"
      ]
     },
     "execution_count": 8,
     "metadata": {},
     "output_type": "execute_result"
    }
   ],
   "source": [
    "numpy_boundary_traversal(array)"
   ]
  },
  {
   "cell_type": "markdown",
   "id": "b4dc72f5-ee86-46c0-80b7-0766fe54edd9",
   "metadata": {},
   "source": [
    "# Problem 2"
   ]
  },
  {
   "cell_type": "code",
   "execution_count": 9,
   "id": "3b434dc0-a1f3-4f1b-8a60-f0bdd88a2f59",
   "metadata": {},
   "outputs": [
    {
     "name": "stdout",
     "output_type": "stream",
     "text": [
      "[7.89223534 2.90744629 8.21843972 0.16074115 4.58818088 1.5009544\n",
      " 4.92712912 6.95896072 6.48104213 2.50822803 8.07029993 4.90712753\n",
      " 4.9997606  2.98858816 0.2537021  0.54755868 5.7952182  4.52156659\n",
      " 0.58314151 0.91378386]\n"
     ]
    }
   ],
   "source": [
    "arrf = np.random.uniform(0, 10, size=20)\n",
    "print(arrf)"
   ]
  },
  {
   "cell_type": "code",
   "execution_count": 10,
   "id": "f5da3f80-d317-4094-87c2-3e3d47dd2986",
   "metadata": {},
   "outputs": [
    {
     "name": "stdout",
     "output_type": "stream",
     "text": [
      "[7.89 2.91 8.22 0.16 4.59 1.5  4.93 6.96 6.48 2.51 8.07 4.91 5.   2.99\n",
      " 0.25 0.55 5.8  4.52 0.58 0.91]\n"
     ]
    }
   ],
   "source": [
    "roundarr= np.round(arrf,2)\n",
    "print(roundarr)"
   ]
  },
  {
   "cell_type": "code",
   "execution_count": 11,
   "id": "7158be2e-b36d-4eac-9b38-118a27a1178c",
   "metadata": {},
   "outputs": [
    {
     "name": "stdout",
     "output_type": "stream",
     "text": [
      "0.16\n",
      "8.22\n",
      "4.56\n"
     ]
    }
   ],
   "source": [
    "print(np.round(np.min(roundarr),2))\n",
    "print(np.round(np.max(roundarr),2))\n",
    "print(np.round(np.median(roundarr),2))"
   ]
  },
  {
   "cell_type": "code",
   "execution_count": 12,
   "id": "0deacf91-e107-41ec-80db-3b327c243e83",
   "metadata": {},
   "outputs": [
    {
     "name": "stdout",
     "output_type": "stream",
     "text": [
      "[ 7.89  8.47  8.22  0.03 21.07  2.25 24.3   6.96  6.48  6.3   8.07 24.11\n",
      "  5.    8.94  0.06  0.3   5.8  20.43  0.34  0.83]\n"
     ]
    }
   ],
   "source": [
    "for idx in range(len(roundarr)):\n",
    "    if roundarr[idx] < 5:\n",
    "        roundarr[idx] = (roundarr[idx]*roundarr[idx])\n",
    "print(np.round(roundarr,2))"
   ]
  },
  {
   "cell_type": "code",
   "execution_count": 13,
   "id": "24e8350c-38a6-4b4f-8ee4-e1f639450ae2",
   "metadata": {},
   "outputs": [],
   "source": [
    "import numpy as np\n",
    "\n",
    "def numpy_alternate_sort(array):\n",
    "    sortarr = np.sort(array)\n",
    "    result = []\n",
    "\n",
    "    left = 0\n",
    "    right = len(sortarr) - 1\n",
    "\n",
    "    while left <= right:\n",
    "        result.append(sortarr[left])\n",
    "        left += 1\n",
    "        if left <= right:\n",
    "            result.append(sortarr[right])\n",
    "            right -= 1\n",
    "\n",
    "    return np.array(result)"
   ]
  },
  {
   "cell_type": "code",
   "execution_count": 14,
   "id": "05d15e41-0ab4-474e-9f96-a2e4dee7721d",
   "metadata": {},
   "outputs": [
    {
     "data": {
      "text/plain": [
       "array([ 0.0256, 24.3049,  0.0625, 24.1081,  0.3025, 21.0681,  0.3364,\n",
       "       20.4304,  0.8281,  8.9401,  2.25  ,  8.4681,  5.    ,  8.22  ,\n",
       "        5.8   ,  8.07  ,  6.3001,  7.89  ,  6.48  ,  6.96  ])"
      ]
     },
     "execution_count": 14,
     "metadata": {},
     "output_type": "execute_result"
    }
   ],
   "source": [
    "numpy_alternate_sort(roundarr)"
   ]
  },
  {
   "cell_type": "markdown",
   "id": "01e589ee-d39e-4aa3-af95-09e2e7f30967",
   "metadata": {},
   "source": [
    "# Problem 3"
   ]
  },
  {
   "cell_type": "code",
   "execution_count": 15,
   "id": "4c90beeb-5607-4d2d-9fa4-21e7f9d0d926",
   "metadata": {},
   "outputs": [],
   "source": [
    "import pandas as pd"
   ]
  },
  {
   "cell_type": "code",
   "execution_count": 16,
   "id": "2c23fd97-fcf2-4da8-8223-4b0c9b3c75d1",
   "metadata": {},
   "outputs": [
    {
     "name": "stdout",
     "output_type": "stream",
     "text": [
      "      Name  Subject  Score Grade\n",
      "0    Alice     Math     71      \n",
      "1      Bob  Science     96      \n",
      "2  Charlie     Math     52      \n",
      "3    David  History     82      \n",
      "4      Eva  Science     82      \n",
      "5    Frank     Math     69      \n",
      "6    Grace  History     53      \n",
      "7    Helen     Math     99      \n",
      "8      Ivy  Science     57      \n",
      "9     Jack  History     55      \n"
     ]
    }
   ],
   "source": [
    "names = ['Alice', 'Bob', 'Charlie', 'David', 'Eva', 'Frank', 'Grace', 'Helen', 'Ivy', 'Jack']\n",
    "subjects = ['Math', 'Science', 'Math', 'History', 'Science', 'Math', 'History', 'Math', 'Science', 'History']\n",
    "\n",
    "# Random scores between 50 and 100\n",
    "scores = np.random.randint(50, 101, size=10)\n",
    "\n",
    "df = pd.DataFrame({\n",
    "    'Name': names,\n",
    "    'Subject': subjects,\n",
    "    'Score': scores,\n",
    "    'Grade': ''  # Initially empty\n",
    "})\n",
    "print(df)"
   ]
  },
  {
   "cell_type": "code",
   "execution_count": 17,
   "id": "b0e81810-756a-42d3-9350-b1eba9a8f385",
   "metadata": {},
   "outputs": [
    {
     "name": "stdout",
     "output_type": "stream",
     "text": [
      "      Name  Subject  Score Grade\n",
      "0    Alice     Math     71     C\n",
      "1      Bob  Science     96     A\n",
      "2  Charlie     Math     52     F\n",
      "3    David  History     82     B\n",
      "4      Eva  Science     82     B\n",
      "5    Frank     Math     69     D\n",
      "6    Grace  History     53     F\n",
      "7    Helen     Math     99     A\n",
      "8      Ivy  Science     57     F\n",
      "9     Jack  History     55     F\n"
     ]
    }
   ],
   "source": [
    "def assign_grade(score):\n",
    "    if score >= 90:\n",
    "        return 'A'\n",
    "    elif score >= 80:\n",
    "        return 'B'\n",
    "    elif score >= 70:\n",
    "        return 'C'\n",
    "    elif score >= 60:\n",
    "        return 'D'\n",
    "    else:\n",
    "        return 'F'\n",
    "\n",
    "df['Grade'] = df['Score'].apply(assign_grade)\n",
    "print(df)"
   ]
  },
  {
   "cell_type": "code",
   "execution_count": 18,
   "id": "a5fe9795-3a53-479f-be30-7d63a936df4b",
   "metadata": {},
   "outputs": [
    {
     "name": "stdout",
     "output_type": "stream",
     "text": [
      "Sorted by Score (Descending):\n",
      "      Name  Subject  Score Grade\n",
      "7    Helen     Math     99     A\n",
      "1      Bob  Science     96     A\n",
      "3    David  History     82     B\n",
      "4      Eva  Science     82     B\n",
      "0    Alice     Math     71     C\n",
      "5    Frank     Math     69     D\n",
      "8      Ivy  Science     57     F\n",
      "9     Jack  History     55     F\n",
      "6    Grace  History     53     F\n",
      "2  Charlie     Math     52     F \n",
      "\n"
     ]
    }
   ],
   "source": [
    "print(\"Sorted by Score (Descending):\")\n",
    "print(df.sort_values(by='Score', ascending=False), \"\\n\")"
   ]
  },
  {
   "cell_type": "code",
   "execution_count": 19,
   "id": "816529c2-df05-43c1-8d5d-3298a6fde556",
   "metadata": {},
   "outputs": [
    {
     "name": "stdout",
     "output_type": "stream",
     "text": [
      "Average Score per Subject:\n",
      "Subject\n",
      "History    63.333333\n",
      "Math       72.750000\n",
      "Science    78.333333\n",
      "Name: Score, dtype: float64 \n",
      "\n"
     ]
    }
   ],
   "source": [
    "print(\"Average Score per Subject:\")\n",
    "print(df.groupby('Subject')['Score'].mean(), \"\\n\")"
   ]
  },
  {
   "cell_type": "code",
   "execution_count": 20,
   "id": "62a817c5-fd4a-4ab7-a2b1-d86e096ad1e0",
   "metadata": {},
   "outputs": [],
   "source": [
    "def pandas_filter_pass(dataframe):\n",
    "    print(dataframe[dataframe['Grade'].isin(['A', 'B'])])\n"
   ]
  },
  {
   "cell_type": "code",
   "execution_count": 21,
   "id": "fdcd5da5-6434-4f0b-9b4a-26853180b808",
   "metadata": {},
   "outputs": [
    {
     "name": "stdout",
     "output_type": "stream",
     "text": [
      "    Name  Subject  Score Grade\n",
      "1    Bob  Science     96     A\n",
      "3  David  History     82     B\n",
      "4    Eva  Science     82     B\n",
      "7  Helen     Math     99     A\n"
     ]
    }
   ],
   "source": [
    "pandas_filter_pass(df)"
   ]
  },
  {
   "cell_type": "markdown",
   "id": "a979befe-418e-4b41-9e92-4e61f1894002",
   "metadata": {},
   "source": [
    "# Problem 4"
   ]
  },
  {
   "cell_type": "code",
   "execution_count": 22,
   "id": "c5185366-5a70-4a72-ac0b-f67f1647e397",
   "metadata": {},
   "outputs": [],
   "source": [
    "import pandas as pd\n",
    "import numpy as np\n",
    "from sklearn.feature_extraction.text import CountVectorizer\n",
    "from sklearn.model_selection import train_test_split\n",
    "from sklearn.naive_bayes import MultinomialNB\n",
    "from sklearn.metrics import accuracy_score\n",
    "import random\n",
    "\n",
    "# 1. Generate synthetic reviews\n",
    "positive_reviews = [\n",
    "    \"Absolutely loved it!\", \"Great acting and story.\", \"A masterpiece!\", \"Highly recommend this film.\",\n",
    "    \"Fantastic direction and screenplay.\", \"Brilliantly done!\", \"Loved every minute.\", \"A delightful watch.\",\n",
    "    \"Excellent plot and performance.\", \"Superb!\", \"Incredible movie.\", \"Really enjoyable.\", \"Heartwarming story.\",\n",
    "    \"A beautiful film.\", \"So well made.\", \"Emotional and powerful.\", \"Perfectly crafted.\", \"Stunning visuals.\",\n",
    "    \"Must watch!\", \"Top-notch.\", \"A classic!\", \"Five stars.\", \"Great film!\", \"Highly enjoyable.\",\n",
    "    \"Great performances.\", \"Well-directed.\", \"Really good.\", \"Loved the message.\", \"Deeply moving.\",\n",
    "    \"Absolutely perfect.\", \"Flawless execution.\", \"Enthralling movie.\", \"It was wonderful.\",\n",
    "    \"Wonderful acting.\", \"Memorable experience.\", \"Captivating from start to finish.\", \"Truly inspiring.\",\n",
    "    \"Well-paced and emotional.\", \"Left me speechless.\", \"Truly great cinema.\", \"Loved the characters.\",\n",
    "    \"Beautifully written.\", \"Very well made.\", \"Well worth the time.\", \"Such a gem.\",\n",
    "    \"A joy to watch.\", \"Breathtaking scenes.\", \"Simply amazing.\", \"It touched my heart.\",\n",
    "    \"Impressive storytelling.\"\n",
    "]\n",
    "\n",
    "negative_reviews = [\n",
    "    \"Absolutely hated it.\", \"Terrible acting.\", \"Worst movie ever.\", \"Would not recommend.\",\n",
    "    \"So boring.\", \"Waste of time.\", \"Poor direction.\", \"Horrible plot.\", \"Awful experience.\",\n",
    "    \"Very disappointing.\", \"Fell asleep halfway.\", \"Nothing good here.\", \"Too slow and dull.\",\n",
    "    \"Painful to watch.\", \"Zero stars.\", \"Plot made no sense.\", \"No character development.\",\n",
    "    \"Terrible ending.\", \"Bad writing.\", \"Boring from start to end.\", \"Lacked emotion.\",\n",
    "    \"Predictable and bland.\", \"Unwatchable.\", \"Disliked it totally.\", \"Complete disaster.\",\n",
    "    \"Avoid at all costs.\", \"Too cliché.\", \"Low quality.\", \"Confusing and pointless.\",\n",
    "    \"Ridiculous story.\", \"Weak performances.\", \"No real plot.\", \"Annoying soundtrack.\",\n",
    "    \"Miserable film.\", \"Dragged too much.\", \"Was expecting more.\", \"Flat characters.\",\n",
    "    \"Insult to cinema.\", \"Hated every minute.\", \"Regret watching.\", \"Uninspired film.\",\n",
    "    \"Forgettable.\", \"Just bad.\", \"So unrealistic.\", \"Unbearable.\", \"Makes no sense.\",\n",
    "    \"Fails on all fronts.\", \"Worst direction ever.\", \"Pathetic attempt.\", \"Didn't enjoy it at all.\"\n",
    "]"
   ]
  },
  {
   "cell_type": "code",
   "execution_count": 23,
   "id": "79db54e1-8415-45e5-8a0a-521602a7d86f",
   "metadata": {},
   "outputs": [
    {
     "name": "stdout",
     "output_type": "stream",
     "text": [
      "Positive reviews: 50\n",
      "Negative reviews: 50\n"
     ]
    }
   ],
   "source": [
    "print(\"Positive reviews:\", len(positive_reviews))\n",
    "print(\"Negative reviews:\", len(negative_reviews))"
   ]
  },
  {
   "cell_type": "code",
   "execution_count": 24,
   "id": "f34ef04a-ecb9-4a64-b686-a1a3289dba3c",
   "metadata": {},
   "outputs": [],
   "source": [
    "# Combine and shuffle\n",
    "reviews = positive_reviews + negative_reviews\n",
    "sentiments = ['positive'] * 50 + ['negative'] * 50"
   ]
  },
  {
   "cell_type": "code",
   "execution_count": 25,
   "id": "424c9ce8-1dcd-435c-922b-3deeeaefab81",
   "metadata": {},
   "outputs": [
    {
     "name": "stdout",
     "output_type": "stream",
     "text": [
      "\n",
      "Step 1: Combined Data Sample\n",
      "                 Review Sentiment\n",
      "0       Miserable film.  negative\n",
      "1  Would not recommend.  negative\n",
      "2       Lacked emotion.  negative\n",
      "3       A joy to watch.  positive\n",
      "4           Such a gem.  positive\n"
     ]
    }
   ],
   "source": [
    "data = pd.DataFrame({'Review': reviews, 'Sentiment': sentiments})\n",
    "data = data.sample(frac=1, random_state=42).reset_index(drop=True)\n",
    "print(\"\\nStep 1: Combined Data Sample\")\n",
    "print(data.head())"
   ]
  },
  {
   "cell_type": "code",
   "execution_count": 26,
   "id": "5e09e5f6-3687-4408-ab0c-81ee0ce27a6e",
   "metadata": {},
   "outputs": [
    {
     "name": "stdout",
     "output_type": "stream",
     "text": [
      "\n",
      "Step 2: Vectorized Feature Shape\n",
      "(100, 135)\n"
     ]
    }
   ],
   "source": [
    "from sklearn.feature_extraction.text import ENGLISH_STOP_WORDS\n",
    "vectorizer = CountVectorizer(stop_words='english', max_features=500)\n",
    "X = vectorizer.fit_transform(data['Review'])\n",
    "y = data['Sentiment']\n",
    "print(\"\\nStep 2: Vectorized Feature Shape\")\n",
    "print(X.shape)"
   ]
  },
  {
   "cell_type": "code",
   "execution_count": 27,
   "id": "6f1b5994-f092-4423-b7ff-68fe9f803859",
   "metadata": {},
   "outputs": [
    {
     "name": "stdout",
     "output_type": "stream",
     "text": [
      "\n",
      "Step 3: Train/Test Sizes\n",
      "Train size: 80\n",
      "Test size: 20\n"
     ]
    }
   ],
   "source": [
    "X_train, X_test, y_train, y_test = train_test_split(X, y, test_size=0.2, random_state=42)\n",
    "print(\"\\nStep 3: Train/Test Sizes\")\n",
    "print(\"Train size:\", X_train.shape[0])\n",
    "print(\"Test size:\", X_test.shape[0])"
   ]
  },
  {
   "cell_type": "code",
   "execution_count": 28,
   "id": "3490a0f2-fee9-4e13-b04a-e18bd2c9ee30",
   "metadata": {},
   "outputs": [
    {
     "name": "stdout",
     "output_type": "stream",
     "text": [
      "\n",
      "Step 4: Model Trained\n"
     ]
    }
   ],
   "source": [
    "model = MultinomialNB()\n",
    "model.fit(X_train, y_train)\n",
    "print(\"\\nStep 4: Model Trained\")"
   ]
  },
  {
   "cell_type": "code",
   "execution_count": 29,
   "id": "4158d2af-e1f3-4278-a7af-9b5d2e62639d",
   "metadata": {},
   "outputs": [
    {
     "name": "stdout",
     "output_type": "stream",
     "text": [
      "\n",
      "Step 5: Test Accuracy\n",
      "Accuracy: 0.4\n"
     ]
    }
   ],
   "source": [
    "y_pred = model.predict(X_test)\n",
    "accuracy = accuracy_score(y_test, y_pred)\n",
    "print(\"\\nStep 5: Test Accuracy\")\n",
    "print(\"Accuracy:\", accuracy)"
   ]
  },
  {
   "cell_type": "code",
   "execution_count": 30,
   "id": "ba9ce1da-9b56-4c1f-8d0d-a724d582f5f1",
   "metadata": {},
   "outputs": [],
   "source": [
    "def predict_review_sentiment(model, vectorizer, review):\n",
    "    tokens = vectorizer.transform([review])\n",
    "    prediction = model.predict(tokens)\n",
    "    return prediction[0]"
   ]
  },
  {
   "cell_type": "code",
   "execution_count": 31,
   "id": "4b4c27eb-7431-45ef-8cc6-1d52a2b5190e",
   "metadata": {},
   "outputs": [
    {
     "name": "stdout",
     "output_type": "stream",
     "text": [
      "\n",
      "Predicted Sentiment: negative\n"
     ]
    }
   ],
   "source": [
    "sample = \"The movie was really boring and disappointing.\"\n",
    "print(\"\\nPredicted Sentiment:\", predict_review_sentiment(model, vectorizer, sample))"
   ]
  },
  {
   "cell_type": "markdown",
   "id": "6877fd55-77db-4ce2-93d0-fc8d279b7344",
   "metadata": {},
   "source": [
    "# Problem 5"
   ]
  },
  {
   "cell_type": "code",
   "execution_count": 32,
   "id": "f325bf05-56f4-4567-8ad1-0184dabed595",
   "metadata": {},
   "outputs": [],
   "source": [
    "import pandas as pd\n",
    "import numpy as np\n",
    "from sklearn.feature_extraction.text import TfidfVectorizer\n",
    "from sklearn.model_selection import train_test_split\n",
    "from sklearn.linear_model import LogisticRegression\n",
    "from sklearn.metrics import classification_report\n",
    "\n",
    "# Step 1: Create synthetic data\n",
    "good_feedback = [\n",
    "    \"Loved the product\", \"Excellent quality\", \"Very satisfied\", \"Great value for money\", \"Works perfectly\",\n",
    "    \"Super easy to use\", \"Exceeded expectations\", \"Highly recommend\", \"Fantastic experience\", \"Amazing results\",\n",
    "    \"Perfect for daily use\", \"Very reliable\", \"Top-notch\", \"User-friendly design\", \"Exceptional performance\",\n",
    "    \"Good build quality\", \"Efficient and fast\", \"Met all my needs\", \"Exactly what I wanted\", \"Would buy again\",\n",
    "    \"Impressive durability\", \"Great packaging\", \"Comfortable to use\", \"Just awesome\", \"Very pleased\",\n",
    "    \"Stunning product\", \"No complaints at all\", \"Looks premium\", \"Happy with my purchase\", \"Delivered quickly\",\n",
    "    \"Beautiful design\", \"Solid and dependable\", \"Really convenient\", \"Everything was as described\",\n",
    "    \"Better than expected\", \"Worth every penny\", \"Five stars\", \"Performs smoothly\", \"Feels high-end\",\n",
    "    \"Reliable and affordable\", \"Love the features\", \"Crystal clear sound\", \"Sleek and modern\", \"Very useful\",\n",
    "    \"Quick setup\", \"Compact and handy\", \"Nice finish\", \"Superb service\", \"No issues found\", \"Great for everyday use\"\n",
    "]\n",
    "bad_feedback = [\n",
    "    \"Terrible quality\", \"Very disappointed\", \"Doesn't work\", \"Waste of money\", \"Too complicated\",\n",
    "    \"Didn't meet expectations\", \"Wouldn't recommend\", \"Worst experience\", \"Poor results\", \"Completely useless\",\n",
    "    \"Stopped working\", \"Unreliable product\", \"Faulty and cheap\", \"Horrible service\", \"Very confusing\",\n",
    "    \"Feels flimsy\", \"Uncomfortable to use\", \"Not worth it\", \"Do not buy\", \"Regret this purchase\",\n",
    "    \"Awful design\", \"Took forever to arrive\", \"Looks cheap\", \"Broke within a week\", \"No customer support\",\n",
    "    \"Overpriced junk\", \"Too noisy\", \"Flawed performance\", \"Misleading description\", \"Poor packaging\",\n",
    "    \"Unsatisfactory\", \"Setup was a nightmare\", \"Bad value\", \"Not user-friendly\", \"Very slow\", \"Completely broken\",\n",
    "    \"Didn't last long\", \"Felt like a scam\", \"Low build quality\", \"Just terrible\", \"Returned it immediately\",\n",
    "    \"Hated it\", \"Cracked on arrival\", \"Nothing good about it\", \"Very outdated\", \"Would give zero stars\",\n",
    "    \"Feels cheap\", \"Lacks basic features\", \"Overheats quickly\", \"Wrong item received\"\n",
    "]"
   ]
  },
  {
   "cell_type": "code",
   "execution_count": 33,
   "id": "f9440feb-8f31-4c76-9525-429d287a703b",
   "metadata": {},
   "outputs": [
    {
     "name": "stdout",
     "output_type": "stream",
     "text": [
      "Step 1: Data Sample\n",
      "              Review Label\n",
      "0  Not user-friendly   bad\n",
      "1     Waste of money   bad\n",
      "2       Awful design   bad\n",
      "3  Compact and handy  good\n",
      "4        Quick setup  good\n"
     ]
    }
   ],
   "source": [
    "texts = good_feedback + bad_feedback\n",
    "labels = ['good'] * 50 + ['bad'] * 50\n",
    "\n",
    "df = pd.DataFrame({'Review': texts, 'Label': labels}).sample(frac=1, random_state=42).reset_index(drop=True)\n",
    "\n",
    "print(\"Step 1: Data Sample\")\n",
    "print(df.head())"
   ]
  },
  {
   "cell_type": "code",
   "execution_count": 34,
   "id": "6cd4d9f2-3a74-4249-ad13-c553103b05e9",
   "metadata": {},
   "outputs": [
    {
     "name": "stdout",
     "output_type": "stream",
     "text": [
      "\n",
      "Step 2: Vectorized Shape\n",
      "(100, 149)\n"
     ]
    }
   ],
   "source": [
    "vectorizer = TfidfVectorizer(max_features=300, stop_words='english', lowercase=True)\n",
    "X = vectorizer.fit_transform(df['Review'])\n",
    "y = df['Label']\n",
    "\n",
    "print(\"\\nStep 2: Vectorized Shape\")\n",
    "print(X.shape)"
   ]
  },
  {
   "cell_type": "code",
   "execution_count": 35,
   "id": "d9bcdce4-b33a-4512-8f98-fa2432f5c99b",
   "metadata": {},
   "outputs": [
    {
     "name": "stdout",
     "output_type": "stream",
     "text": [
      "\n",
      "Step 3: Train/Test Split Sizes\n",
      "Train: 75 Test: 25\n"
     ]
    }
   ],
   "source": [
    "X_train, X_test, y_train, y_test = train_test_split(X, y, test_size=0.25, random_state=42)\n",
    "print(\"\\nStep 3: Train/Test Split Sizes\")\n",
    "print(\"Train:\", X_train.shape[0], \"Test:\", X_test.shape[0])"
   ]
  },
  {
   "cell_type": "code",
   "execution_count": 36,
   "id": "deafb448-5ff3-4bac-a605-d9e3008ef64d",
   "metadata": {},
   "outputs": [
    {
     "name": "stdout",
     "output_type": "stream",
     "text": [
      "\n",
      "Step 4: Classification Report\n",
      "              precision    recall  f1-score   support\n",
      "\n",
      "         bad       0.30      0.88      0.45         8\n",
      "        good       0.50      0.06      0.11        17\n",
      "\n",
      "    accuracy                           0.32        25\n",
      "   macro avg       0.40      0.47      0.28        25\n",
      "weighted avg       0.44      0.32      0.22        25\n",
      "\n"
     ]
    }
   ],
   "source": [
    "model = LogisticRegression()\n",
    "model.fit(X_train, y_train)\n",
    "y_pred = model.predict(X_test)\n",
    "\n",
    "print(\"\\nStep 4: Classification Report\")\n",
    "print(classification_report(y_test, y_pred))"
   ]
  },
  {
   "cell_type": "code",
   "execution_count": 37,
   "id": "0f9b5984-8c3a-4e21-bff8-c0890560fbfb",
   "metadata": {},
   "outputs": [],
   "source": [
    "def text_preprocess_vectorize(texts, vectorizer):\n",
    "    return vectorizer.transform(texts)"
   ]
  },
  {
   "cell_type": "code",
   "execution_count": 38,
   "id": "d5665b22-a736-44d5-a2f9-3017bd94d3fc",
   "metadata": {},
   "outputs": [
    {
     "name": "stdout",
     "output_type": "stream",
     "text": [
      "\n",
      "Predictions on sample inputs:\n",
      "['good' 'bad']\n"
     ]
    }
   ],
   "source": [
    "sample_texts = [\"Amazing product, very helpful\", \"Stopped working after two days\"]\n",
    "X_sample = text_preprocess_vectorize(sample_texts, vectorizer)\n",
    "print(\"\\nPredictions on sample inputs:\")\n",
    "print(model.predict(X_sample))"
   ]
  }
 ],
 "metadata": {
  "kernelspec": {
   "display_name": "Python 3 (ipykernel)",
   "language": "python",
   "name": "python3"
  },
  "language_info": {
   "codemirror_mode": {
    "name": "ipython",
    "version": 3
   },
   "file_extension": ".py",
   "mimetype": "text/x-python",
   "name": "python",
   "nbconvert_exporter": "python",
   "pygments_lexer": "ipython3",
   "version": "3.12.4"
  }
 },
 "nbformat": 4,
 "nbformat_minor": 5
}
