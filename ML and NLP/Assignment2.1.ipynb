{
 "cells": [
  {
   "cell_type": "code",
   "execution_count": 1,
   "id": "0bc39f46-d0c4-465f-ab41-8423f2304739",
   "metadata": {},
   "outputs": [],
   "source": [
    "import math\n",
    "from sklearn.feature_extraction.text import CountVectorizer, TfidfVectorizer\n",
    "import pandas as pd"
   ]
  },
  {
   "cell_type": "code",
   "execution_count": 2,
   "id": "5bf078a0-c78d-4e1b-a81c-1308992ba7f3",
   "metadata": {},
   "outputs": [],
   "source": [
    "corpus = [\n",
    "    'the sun is a star',\n",
    "    'the moon is a satellite',\n",
    "    'the sun and moon are celestial bodies'\n",
    "]"
   ]
  },
  {
   "cell_type": "code",
   "execution_count": 3,
   "id": "8dd00432-dfff-496a-a751-f0d865c1348e",
   "metadata": {},
   "outputs": [],
   "source": [
    "def compute_tf(doc):\n",
    "    tf_dict = {}\n",
    "    words = doc.split()\n",
    "    total_terms = len(words)\n",
    "    for word in words:\n",
    "        tf_dict[word] = tf_dict.get(word, 0) + 1\n",
    "    for word in tf_dict:\n",
    "        tf_dict[word] /= total_terms\n",
    "    return tf_dict"
   ]
  },
  {
   "cell_type": "code",
   "execution_count": 4,
   "id": "bcb002b3-07d7-45f4-93ff-af36ba652d1e",
   "metadata": {},
   "outputs": [],
   "source": [
    "def compute_idf(corpus):\n",
    "    idf_dict = {}\n",
    "    N = len(corpus)\n",
    "    all_words = set(word for doc in corpus for word in doc.split())\n",
    "    for word in all_words:\n",
    "        df = sum(word in doc.split() for doc in corpus)\n",
    "        idf_dict[word] = math.log(N / (df))  # no smoothing\n",
    "    return idf_dict"
   ]
  },
  {
   "cell_type": "code",
   "execution_count": 5,
   "id": "7c114a4e-0b68-4227-99b5-5e5a7ed5f0c5",
   "metadata": {},
   "outputs": [],
   "source": [
    "def compute_tfidf(corpus):\n",
    "    idf = compute_idf(corpus)\n",
    "    tfidf_docs = []\n",
    "    for doc in corpus:\n",
    "        tf = compute_tf(doc)\n",
    "        tfidf = {word: tf[word] * idf[word] for word in tf}\n",
    "        tfidf_docs.append(tfidf)\n",
    "    return tfidf_docs"
   ]
  },
  {
   "cell_type": "code",
   "execution_count": 6,
   "id": "07204dbc-5419-4324-966e-614f44f21c27",
   "metadata": {},
   "outputs": [],
   "source": [
    "manual_tfidf = compute_tfidf(corpus)"
   ]
  },
  {
   "cell_type": "code",
   "execution_count": 7,
   "id": "69ca5258-e4c6-4ae6-b747-1da34198c4e9",
   "metadata": {},
   "outputs": [
    {
     "name": "stdout",
     "output_type": "stream",
     "text": [
      "\n",
      "Manual TF-IDF:\n",
      "                  0         1         2\n",
      "the        0.000000  0.000000  0.000000\n",
      "sun        0.081093  0.000000  0.057924\n",
      "is         0.081093  0.081093  0.000000\n",
      "a          0.081093  0.081093  0.000000\n",
      "star       0.219722  0.000000  0.000000\n",
      "moon       0.000000  0.081093  0.057924\n",
      "satellite  0.000000  0.219722  0.000000\n",
      "and        0.000000  0.000000  0.156945\n",
      "are        0.000000  0.000000  0.156945\n",
      "celestial  0.000000  0.000000  0.156945\n",
      "bodies     0.000000  0.000000  0.156945\n"
     ]
    }
   ],
   "source": [
    "print(\"\\nManual TF-IDF:\")\n",
    "df_manual = pd.DataFrame(manual_tfidf).fillna(0)\n",
    "print(df_manual.T)"
   ]
  },
  {
   "cell_type": "code",
   "execution_count": 8,
   "id": "8653f379-8ece-47bf-8a7b-d220ced02a37",
   "metadata": {},
   "outputs": [
    {
     "name": "stdout",
     "output_type": "stream",
     "text": [
      "\n",
      "CountVectorizer:\n",
      "           0  1  2\n",
      "and        0  0  1\n",
      "are        0  0  1\n",
      "bodies     0  0  1\n",
      "celestial  0  0  1\n",
      "is         1  1  0\n",
      "moon       0  1  1\n",
      "satellite  0  1  0\n",
      "star       1  0  0\n",
      "sun        1  0  1\n",
      "the        1  1  1\n"
     ]
    }
   ],
   "source": [
    "# Step 4: Compare with scikit-learn\n",
    "count_vec = CountVectorizer()\n",
    "X_count = count_vec.fit_transform(corpus)\n",
    "df_count = pd.DataFrame(X_count.toarray(), columns=count_vec.get_feature_names_out())\n",
    "print(\"\\nCountVectorizer:\")\n",
    "print(df_count.T)"
   ]
  },
  {
   "cell_type": "code",
   "execution_count": 9,
   "id": "7f61d91a-068a-4231-baf3-480b3a540c67",
   "metadata": {},
   "outputs": [
    {
     "name": "stdout",
     "output_type": "stream",
     "text": [
      "\n",
      "Scikit-learn TF-IDF:\n",
      "                  0         1         2\n",
      "and        0.000000  0.000000  0.426184\n",
      "are        0.000000  0.000000  0.426184\n",
      "bodies     0.000000  0.000000  0.426184\n",
      "celestial  0.000000  0.000000  0.426184\n",
      "is         0.480458  0.480458  0.000000\n",
      "moon       0.000000  0.480458  0.324124\n",
      "satellite  0.000000  0.631745  0.000000\n",
      "star       0.631745  0.000000  0.000000\n",
      "sun        0.480458  0.000000  0.324124\n",
      "the        0.373119  0.373119  0.251711\n"
     ]
    }
   ],
   "source": [
    "# TfidfVectorizer\n",
    "tfidf_vec = TfidfVectorizer()\n",
    "X_tfidf = tfidf_vec.fit_transform(corpus)\n",
    "df_sklearn_tfidf = pd.DataFrame(X_tfidf.toarray(), columns=tfidf_vec.get_feature_names_out())\n",
    "print(\"\\nScikit-learn TF-IDF:\")\n",
    "print(df_sklearn_tfidf.T)"
   ]
  }
 ],
 "metadata": {
  "kernelspec": {
   "display_name": "Python 3 (ipykernel)",
   "language": "python",
   "name": "python3"
  },
  "language_info": {
   "codemirror_mode": {
    "name": "ipython",
    "version": 3
   },
   "file_extension": ".py",
   "mimetype": "text/x-python",
   "name": "python",
   "nbconvert_exporter": "python",
   "pygments_lexer": "ipython3",
   "version": "3.12.4"
  }
 },
 "nbformat": 4,
 "nbformat_minor": 5
}
